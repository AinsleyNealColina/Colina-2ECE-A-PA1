{
 "cells": [
  {
   "cell_type": "code",
   "execution_count": 8,
   "id": "c71f0a4c-2175-43fb-b2ee-6977053bbfdb",
   "metadata": {},
   "outputs": [
    {
     "name": "stdin",
     "output_type": "stream",
     "text": [
      "Enter a word (or type 'exit' to quit):  hello world\n"
     ]
    },
    {
     "name": "stdout",
     "output_type": "stream",
     "text": [
      "Sorted word:  dehllloorw\n"
     ]
    },
    {
     "name": "stdin",
     "output_type": "stream",
     "text": [
      "Enter a word (or type 'exit' to quit):  exit\n"
     ]
    },
    {
     "name": "stdout",
     "output_type": "stream",
     "text": [
      "Goodbye!\n"
     ]
    }
   ],
   "source": [
    "# Sorts the letters in a word alphabetically\n",
    "def alphabet_soup(word):\n",
    "    return ''.join(sorted(word))\n",
    "\n",
    "# Runs the program loop\n",
    "def main():\n",
    "    while True:\n",
    "        user_input = input(\"Enter a word (or type 'exit' to quit): \")\n",
    "        \n",
    "        # Exit condition\n",
    "        if user_input.lower() == 'exit':\n",
    "            print(\"Goodbye!\")\n",
    "            break\n",
    "        \n",
    "        # Show sorted word\n",
    "        result = alphabet_soup(user_input)\n",
    "        print(f\"Sorted word: {result}\")\n",
    "\n",
    "# Starts the program\n",
    "if __name__ == \"__main__\":\n",
    "    main()\n"
   ]
  },
  {
   "cell_type": "code",
   "execution_count": 10,
   "id": "f6d805b2-9291-4052-9b43-363eb1d7ab0f",
   "metadata": {},
   "outputs": [
    {
     "name": "stdin",
     "output_type": "stream",
     "text": [
      "Enter a sentence (or type 'exit' to quit):  smile\n"
     ]
    },
    {
     "name": "stdout",
     "output_type": "stream",
     "text": [
      "Emotified sentence: :)\n"
     ]
    },
    {
     "name": "stdin",
     "output_type": "stream",
     "text": [
      "Enter a sentence (or type 'exit' to quit):  exit\n"
     ]
    },
    {
     "name": "stdout",
     "output_type": "stream",
     "text": [
      "Goodbye!\n"
     ]
    }
   ],
   "source": [
    "# Replaces certain words in a sentence with emoticons\n",
    "def emotify(sentence):\n",
    "    emoticon_dict = {\n",
    "        \"smile\": \":)\",\n",
    "        \"grin\": \":D\",\n",
    "        \"sad\": \":((\",\n",
    "        \"mad\": \">:(\",\n",
    "    }\n",
    "     # Split sentence into words\n",
    "    words = sentence.split() \n",
    "    emotified_words = [emoticon_dict.get(word.lower(), word) for word in words]  # Replace if match found\n",
    "    \n",
    "    return ' '.join(emotified_words)  # Join words back into a sentence\n",
    "\n",
    "# Runs the interactive loop\n",
    "def main():\n",
    "    while True:\n",
    "        user_input = input(\"Enter a sentence (or type 'exit' to quit): \")\n",
    "        # Exit condition\n",
    "        if user_input.lower() == 'exit':  \n",
    "            print(\"Goodbye!\")\n",
    "            break\n",
    "         # Convert sentence\n",
    "        result = emotify(user_input) \n",
    "        # Show result\n",
    "        print(\"Emotified sentence:\", result)  \n",
    "\n",
    "# Start the program\n",
    "if __name__ == \"__main__\":\n",
    "    main()\n"
   ]
  },
  {
   "cell_type": "code",
   "execution_count": null,
   "id": "b4738413-a2bc-432f-95d7-c42f879ca726",
   "metadata": {},
   "outputs": [],
   "source": [
    "# Splits a list into first, middle, and last elements\n",
    "def arrange_numbers(numbers):\n",
    "    if len(numbers) < 3:\n",
    "        print(\"List must have at least 3 elements.\")\n",
    "        return\n",
    "# Unpacks the list\n",
    "    first, *middle, last = numbers  \n",
    "    print(\"Output:\")\n",
    "    print(f\"First: {first}\")\n",
    "    print(f\"Middle: {middle}\")\n",
    "    print(f\"Last: {last}\")\n",
    "\n",
    "# Runs the input loop\n",
    "def main():\n",
    "    while True:\n",
    "        try:\n",
    "            input_list = input(\"Enter numbers separated by spaces (or type 'exit' to quit): \")\n",
    "# Exit condition\n",
    "            if input_list.lower() == 'exit':  \n",
    "                print(\"Goodbye!\")\n",
    "                break\n",
    "# Convert input to list of integers\n",
    "            numbers = list(map(int, input_list.split()))  \n",
    "            arrange_numbers(numbers)\n",
    "        except ValueError:\n",
    "            print(\"Please enter valid integers separated by spaces.\")\n",
    "\n",
    "# Starts the program\n",
    "if __name__ == \"__main__\":\n",
    "    main()\n"
   ]
  },
  {
   "cell_type": "code",
   "execution_count": null,
   "id": "c45c91ab-e9c4-4de2-bb41-e92e7f5b8957",
   "metadata": {},
   "outputs": [],
   "source": []
  }
 ],
 "metadata": {
  "kernelspec": {
   "display_name": "Python 3 (ipykernel)",
   "language": "python",
   "name": "python3"
  },
  "language_info": {
   "codemirror_mode": {
    "name": "ipython",
    "version": 3
   },
   "file_extension": ".py",
   "mimetype": "text/x-python",
   "name": "python",
   "nbconvert_exporter": "python",
   "pygments_lexer": "ipython3",
   "version": "3.12.4"
  }
 },
 "nbformat": 4,
 "nbformat_minor": 5
}
